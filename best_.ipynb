{
 "cells": [
  {
   "cell_type": "code",
   "execution_count": 10,
   "metadata": {},
   "outputs": [],
   "source": [
    "from scipy.fftpack import fft, fftfreq, fftshift, ifft\n",
    "from skimage.util import compare_images\n",
    "import matplotlib.pyplot as plt\n",
    "import scipy.signal as signal\n",
    "from skimage.color import rgb2gray\n",
    "from skimage import filters, feature\n",
    "from scipy import ndimage\n",
    "import numpy as np\n",
    "import cv2"
   ]
  },
  {
   "cell_type": "code",
   "execution_count": 11,
   "metadata": {},
   "outputs": [],
   "source": [
    "def gaussian_filter(image, sigma):\n",
    "    \"\"\"\n",
    "    Create a gaussian filter with the given sigma\n",
    "    \"\"\"\n",
    "    # create a grid of x and y coordinates\n",
    "    x, y = np.meshgrid(np.linspace(-1, 1, image.shape[1]), np.linspace(-1, 1, image.shape[0]))\n",
    "    # calculate the gaussian\n",
    "    g = np.exp(-((x**2 + y**2)/(2.0*sigma**2)))\n",
    "    # normalize the gaussian\n",
    "    g = g / np.sum(g)\n",
    "    return g\n",
    "\n",
    "def convolve_image(image, filter_matrix):\n",
    "    \"\"\"\n",
    "    Convolve image with filter_matrix\n",
    "    \"\"\"\n",
    "    im_pad = np.pad(image, 5, mode='constant') \n",
    "    im_conv = np.zeros_like(image)\n",
    "    \n",
    "    #the filter function takes in an image and a pair of indices and performs the convolution\n",
    "    def filter_function(img, i, j):\n",
    "        conv = np.zeros((3,3))\n",
    "        for a in range(2,-1,-1):\n",
    "            for b in range(2,-1,-1):\n",
    "                conv[a,b] = img[i+a,j+b]*filter_matrix[a,b]\n",
    "        return np.sum(conv)\n",
    "    \n",
    "    #iterate through the image and perform the convolution\n",
    "    for i in range(image.shape[0]):\n",
    "        for j in range(image.shape[1]):\n",
    "            im_conv[i,j] = filter_function(im_pad, i, j)\n",
    "    return im_conv"
   ]
  },
  {
   "cell_type": "code",
   "execution_count": 17,
   "metadata": {},
   "outputs": [
    {
     "name": "stderr",
     "output_type": "stream",
     "text": [
      "[ WARN:0@521.563] global /Users/runner/miniforge3/conda-bld/libopencv_1666820205670/work/modules/imgcodecs/src/loadsave.cpp (239) findDecoder imread_('casa.jpg'): can't open/read file: check file path/integrity\n"
     ]
    },
    {
     "ename": "AttributeError",
     "evalue": "'NoneType' object has no attribute 'astype'",
     "output_type": "error",
     "traceback": [
      "\u001b[0;31m---------------------------------------------------------------------------\u001b[0m",
      "\u001b[0;31mAttributeError\u001b[0m                            Traceback (most recent call last)",
      "Cell \u001b[0;32mIn [17], line 2\u001b[0m\n\u001b[1;32m      1\u001b[0m image \u001b[39m=\u001b[39m cv2\u001b[39m.\u001b[39mimread(\u001b[39m'\u001b[39m\u001b[39mcasa.jpg\u001b[39m\u001b[39m'\u001b[39m)\n\u001b[0;32m----> 2\u001b[0m image \u001b[39m=\u001b[39m image\u001b[39m.\u001b[39;49mastype(np\u001b[39m.\u001b[39mfloat32)\n",
      "\u001b[0;31mAttributeError\u001b[0m: 'NoneType' object has no attribute 'astype'"
     ]
    }
   ],
   "source": [
    "image = cv2.imread('casa.jpg')\n",
    "\n"
   ]
  },
  {
   "cell_type": "code",
   "execution_count": 14,
   "metadata": {},
   "outputs": [
    {
     "name": "stderr",
     "output_type": "stream",
     "text": [
      "[ WARN:0@462.183] global /Users/runner/miniforge3/conda-bld/libopencv_1666820205670/work/modules/imgcodecs/src/loadsave.cpp (239) findDecoder imread_('casa.jpg'): can't open/read file: check file path/integrity\n"
     ]
    },
    {
     "ename": "IndexError",
     "evalue": "tuple index out of range",
     "output_type": "error",
     "traceback": [
      "\u001b[0;31m---------------------------------------------------------------------------\u001b[0m",
      "\u001b[0;31mIndexError\u001b[0m                                Traceback (most recent call last)",
      "Cell \u001b[0;32mIn [14], line 20\u001b[0m\n\u001b[1;32m     18\u001b[0m \u001b[39m#use\u001b[39;00m\n\u001b[1;32m     19\u001b[0m image \u001b[39m=\u001b[39m cv2\u001b[39m.\u001b[39mimread(\u001b[39m'\u001b[39m\u001b[39mcasa.jpg\u001b[39m\u001b[39m'\u001b[39m)\n\u001b[0;32m---> 20\u001b[0m image \u001b[39m=\u001b[39m ImageProcess(image)\n\u001b[1;32m     21\u001b[0m plt\u001b[39m.\u001b[39mimshow(image, cmap\u001b[39m=\u001b[39m\u001b[39m'\u001b[39m\u001b[39mgray\u001b[39m\u001b[39m'\u001b[39m)\n",
      "Cell \u001b[0;32mIn [14], line 2\u001b[0m, in \u001b[0;36mImageProcess\u001b[0;34m(image)\u001b[0m\n\u001b[1;32m      1\u001b[0m \u001b[39mdef\u001b[39;00m \u001b[39mImageProcess\u001b[39m(image):\n\u001b[0;32m----> 2\u001b[0m     image \u001b[39m=\u001b[39m rgb2gray(image)\n\u001b[1;32m      3\u001b[0m     image \u001b[39m=\u001b[39m image\u001b[39m.\u001b[39mastype(np\u001b[39m.\u001b[39mfloat32)\n\u001b[1;32m      5\u001b[0m     height, width \u001b[39m=\u001b[39m image\u001b[39m.\u001b[39mshape\n",
      "File \u001b[0;32m~/miniconda3/envs/CV/lib/python3.11/site-packages/skimage/_shared/utils.py:394\u001b[0m, in \u001b[0;36mchannel_as_last_axis.__call__.<locals>.fixed_func\u001b[0;34m(*args, **kwargs)\u001b[0m\n\u001b[1;32m    391\u001b[0m channel_axis \u001b[39m=\u001b[39m kwargs\u001b[39m.\u001b[39mget(\u001b[39m'\u001b[39m\u001b[39mchannel_axis\u001b[39m\u001b[39m'\u001b[39m, \u001b[39mNone\u001b[39;00m)\n\u001b[1;32m    393\u001b[0m \u001b[39mif\u001b[39;00m channel_axis \u001b[39mis\u001b[39;00m \u001b[39mNone\u001b[39;00m:\n\u001b[0;32m--> 394\u001b[0m     \u001b[39mreturn\u001b[39;00m func(\u001b[39m*\u001b[39;49margs, \u001b[39m*\u001b[39;49m\u001b[39m*\u001b[39;49mkwargs)\n\u001b[1;32m    396\u001b[0m \u001b[39m# TODO: convert scalars to a tuple in anticipation of eventually\u001b[39;00m\n\u001b[1;32m    397\u001b[0m \u001b[39m#       supporting a tuple of channel axes. Right now, only an\u001b[39;00m\n\u001b[1;32m    398\u001b[0m \u001b[39m#       integer or a single-element tuple is supported, though.\u001b[39;00m\n\u001b[1;32m    399\u001b[0m \u001b[39mif\u001b[39;00m np\u001b[39m.\u001b[39misscalar(channel_axis):\n",
      "File \u001b[0;32m~/miniconda3/envs/CV/lib/python3.11/site-packages/skimage/color/colorconv.py:875\u001b[0m, in \u001b[0;36mrgb2gray\u001b[0;34m(rgb, channel_axis)\u001b[0m\n\u001b[1;32m    834\u001b[0m \u001b[39m@channel_as_last_axis\u001b[39m(multichannel_output\u001b[39m=\u001b[39m\u001b[39mFalse\u001b[39;00m)\n\u001b[1;32m    835\u001b[0m \u001b[39mdef\u001b[39;00m \u001b[39mrgb2gray\u001b[39m(rgb, \u001b[39m*\u001b[39m, channel_axis\u001b[39m=\u001b[39m\u001b[39m-\u001b[39m\u001b[39m1\u001b[39m):\n\u001b[1;32m    836\u001b[0m     \u001b[39m\"\"\"Compute luminance of an RGB image.\u001b[39;00m\n\u001b[1;32m    837\u001b[0m \n\u001b[1;32m    838\u001b[0m \u001b[39m    Parameters\u001b[39;00m\n\u001b[0;32m   (...)\u001b[0m\n\u001b[1;32m    873\u001b[0m \u001b[39m    >>> img_gray = rgb2gray(img)\u001b[39;00m\n\u001b[1;32m    874\u001b[0m \u001b[39m    \"\"\"\u001b[39;00m\n\u001b[0;32m--> 875\u001b[0m     rgb \u001b[39m=\u001b[39m _prepare_colorarray(rgb)\n\u001b[1;32m    876\u001b[0m     coeffs \u001b[39m=\u001b[39m np\u001b[39m.\u001b[39marray([\u001b[39m0.2125\u001b[39m, \u001b[39m0.7154\u001b[39m, \u001b[39m0.0721\u001b[39m], dtype\u001b[39m=\u001b[39mrgb\u001b[39m.\u001b[39mdtype)\n\u001b[1;32m    877\u001b[0m     \u001b[39mreturn\u001b[39;00m rgb \u001b[39m@\u001b[39m coeffs\n",
      "File \u001b[0;32m~/miniconda3/envs/CV/lib/python3.11/site-packages/skimage/color/colorconv.py:137\u001b[0m, in \u001b[0;36m_prepare_colorarray\u001b[0;34m(arr, force_copy, channel_axis)\u001b[0m\n\u001b[1;32m    132\u001b[0m \u001b[39m\"\"\"Check the shape of the array and convert it to\u001b[39;00m\n\u001b[1;32m    133\u001b[0m \u001b[39mfloating point representation.\u001b[39;00m\n\u001b[1;32m    134\u001b[0m \u001b[39m\"\"\"\u001b[39;00m\n\u001b[1;32m    135\u001b[0m arr \u001b[39m=\u001b[39m np\u001b[39m.\u001b[39masanyarray(arr)\n\u001b[0;32m--> 137\u001b[0m \u001b[39mif\u001b[39;00m arr\u001b[39m.\u001b[39;49mshape[channel_axis] \u001b[39m!=\u001b[39m \u001b[39m3\u001b[39m:\n\u001b[1;32m    138\u001b[0m     msg \u001b[39m=\u001b[39m (\u001b[39mf\u001b[39m\u001b[39m'\u001b[39m\u001b[39mthe input array must have size 3 along `channel_axis`, \u001b[39m\u001b[39m'\u001b[39m\n\u001b[1;32m    139\u001b[0m            \u001b[39mf\u001b[39m\u001b[39m'\u001b[39m\u001b[39mgot \u001b[39m\u001b[39m{\u001b[39;00marr\u001b[39m.\u001b[39mshape\u001b[39m}\u001b[39;00m\u001b[39m'\u001b[39m)\n\u001b[1;32m    140\u001b[0m     \u001b[39mraise\u001b[39;00m \u001b[39mValueError\u001b[39;00m(msg)\n",
      "\u001b[0;31mIndexError\u001b[0m: tuple index out of range"
     ]
    }
   ],
   "source": [
    "def ImageProcess(image):\n",
    "    image = rgb2gray(image)\n",
    "    \n",
    "\n",
    "    height, width = image.shape\n",
    "    height_middle = int(height/2)\n",
    "    width_middle = int(width/2)\n",
    "\n",
    "    offset = int((height_middle + width_middle) / 3)\n",
    "    image = image[height_middle-offset:height_middle+offset, width_middle-offset:width_middle+offset]\n",
    "\n",
    "    casa = np.array(image)\n",
    "    casa = casa[:,:]\n",
    "    casa = cv2.resize(casa, (512,512))\n",
    "\n",
    "    return casa\n",
    "\n",
    "#use\n",
    "\n",
    "image = ImageProcess(image)\n",
    "plt.imshow(image, cmap='gray')"
   ]
  },
  {
   "cell_type": "code",
   "execution_count": null,
   "metadata": {},
   "outputs": [],
   "source": []
  }
 ],
 "metadata": {
  "kernelspec": {
   "display_name": "Python 3.11.0 ('CV')",
   "language": "python",
   "name": "python3"
  },
  "language_info": {
   "codemirror_mode": {
    "name": "ipython",
    "version": 3
   },
   "file_extension": ".py",
   "mimetype": "text/x-python",
   "name": "python",
   "nbconvert_exporter": "python",
   "pygments_lexer": "ipython3",
   "version": "3.11.0"
  },
  "orig_nbformat": 4,
  "vscode": {
   "interpreter": {
    "hash": "9bb4e10bd348ea09997d1dd2c3b781d850f7c0af4d0cf7c7a7791bc3067887d9"
   }
  }
 },
 "nbformat": 4,
 "nbformat_minor": 2
}
